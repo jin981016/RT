{
 "cells": [
  {
   "cell_type": "code",
   "execution_count": 2,
   "metadata": {},
   "outputs": [
    {
     "name": "stdout",
     "output_type": "stream",
     "text": [
      "warng pyCloudy config: pyCloudy works better with matplotlib Triangulation\n"
     ]
    }
   ],
   "source": [
    "import numpy as np                                                                        \n",
    "import matplotlib.pyplot as plt\n",
    "import pyCloudy as pc\n",
    "import pyneb as pn\n",
    "from astropy    import constants as const\n",
    "from astropy.io import ascii\n",
    "import pandas as pd\n",
    "from scipy import interpolate\n",
    "import warnings\n",
    "from scipy.integrate import quad, IntegrationWarning\n",
    "# from scipy.integrate import simps\n",
    "from numpy import log10, exp\n",
    "\n",
    "kpc = const.kpc.cgs.value\n",
    "\n",
    "atom = ['Lya','HeII','CIV']\n",
    "\n",
    "def read_file(path_way, atom):\n",
    "    Mod = pc.CloudyModel(path_way, cloudy_version_major=23)\n",
    "    Mod.ionic_names\n",
    "\n",
    "    N_H = sum(Mod.dr*Mod.nH)\n",
    "    # solar_metallicitiy from von Steiger et al. 2016\n",
    "    frac_He = 1.0E-01\n",
    "    frac_C = 4.47E-04\n",
    "    frac_O = 6.61E-04\n",
    "    frac_N = 9.33E-05\n",
    "    frac_Mg = 7.08E-05\n",
    "\n",
    "    N_HI = sum(Mod.dr*Mod.nH*Mod.get_ionic('H',0))\n",
    "    N_HII = sum(Mod.dr*Mod.nH*Mod.get_ionic('H',1))\n",
    "    N_HeII = frac_He*sum(Mod.dr*Mod.nH*Mod.get_ionic('He',1))\n",
    "    N_OVI = frac_O*sum(Mod.dr*Mod.nH*Mod.get_ionic('O',5))\n",
    "    N_NV = frac_N*sum(Mod.dr*Mod.nH*Mod.get_ionic('N',4))\n",
    "    N_CIV = frac_C*sum(Mod.dr*Mod.nH*Mod.get_ionic('C',3))\n",
    "\n",
    "    num = len(Mod.nH)\n",
    "    r_CIV = path_way +  '.ele_C'\n",
    "    f = open(r_CIV,'r')\n",
    "    header = f.readline()\n",
    "    CIV_frac = np.zeros(num)\n",
    "    i = 0\n",
    "    for line in f:\n",
    "        line = line.strip()\n",
    "        columns = line.split()\n",
    "        j = float(columns[4])\n",
    "        CIV_frac[i] = j\n",
    "        i = i + 1\n",
    "\n",
    "    r_He = path_way +  '.ele_He'\n",
    "    f = open(r_He,'r')\n",
    "    header = f.readline()\n",
    "    HeII_frac = np.zeros(num)\n",
    "    i = 0\n",
    "    for line in f:\n",
    "        line = line.strip()\n",
    "        columns = line.split()\n",
    "        j = float(columns[2])\n",
    "        HeII_frac[i] = j\n",
    "        i = i + 1\n",
    "\n",
    "\n",
    "\n",
    "    n_H= Mod.nH\n",
    "    n_He = n_H*frac_He\n",
    "    n_C = n_H*frac_C\n",
    "    nden_CIV = CIV_frac*n_C\n",
    "    nden_HeII = HeII_frac*n_He\n",
    "\n",
    "\n",
    "    if atom == 'CIV':\n",
    "        Cloudy_Lum = float(Mod.get_emis_vol('C__4_154819A')) + float(Mod.get_emis_vol('C__4_155078A'))\n",
    "        Cloudy_emis = (Mod.get_emis('C__4_154819A')) + (Mod.get_emis('C__4_155078A'))\n",
    "        Cloudy_den = nden_CIV\n",
    "    elif atom == 'Lya':\n",
    "        Cloudy_Lum= float(Mod.get_emis_vol('H__1_121567A'))\n",
    "        Cloudy_emis = Mod.get_emis('H__1_121567A')\n",
    "        Cloudy_den = n_H\n",
    "    elif atom == 'HeII':\n",
    "        Cloudy_Lum = float(Mod.get_emis_vol('HE_2_164043A'))\n",
    "        Cloudy_emis = Mod.get_emis('HE_2_164043A')\n",
    "        Cloudy_den = nden_HeII\n",
    "    return Cloudy_Lum , Cloudy_emis ,Cloudy_den\n",
    "\n",
    "def radius(path, atom):\n",
    "    Mod = pc.CloudyModel(path, cloudy_version_major=23)\n",
    "    radius = Mod.radius/kpc\n",
    "    radius_kpc =Mod.radius \n",
    "    dr = Mod.dr \n",
    "    return radius, radius_kpc\n",
    "\n",
    "\n",
    "def RT_SB(path):\n",
    "    name = ['radius','SB_K','SB_H','SB_tot','1','2','3']\n",
    "    data_sp = pd.read_csv(path, sep='\\s+', header=None,names=name)\n",
    "    rad, SB_t, SB_k,SB_h =  data_sp['radius'].to_numpy(),data_sp['SB_tot'].to_numpy(),data_sp['SB_K'].to_numpy(),data_sp['SB_H'].to_numpy()\n",
    "    return rad/kpc, rad, SB_t \n",
    "\n",
    "def find_y(x_find,x,y):\n",
    "    ii = int(np.where(x <= x_find)[0][-1])\n",
    "    # print(ii)\n",
    "    y_find = (y[ii+1] -y[ii]) / (x[ii+1] - x[ii])*(x_find - x[ii]) + y[ii]\n",
    "    return y_find\n",
    "\n",
    "warnings.filterwarnings(\"ignore\", category=IntegrationWarning)"
   ]
  },
  {
   "cell_type": "code",
   "execution_count": 3,
   "metadata": {},
   "outputs": [],
   "source": [
    "\n",
    "#Ubuntu_path_RT # LT\n",
    "\n",
    "# RT_path_4 =r'/home/jin/T_Cloudy/photon_test/data_RT/N_atom400E+00_Vexp000E+00_Vemit100E+00_tauD000E+00_Vran118E+01radi.dat'\n",
    "# RT_path_6 =r'/home/jin/T_Cloudy/photon_test/data_RT/N_atom600E+00_Vexp000E+00_Vemit100E+00_tauD000E+00_Vran118E+01radi.dat'\n",
    "# RT_path_8 =r'/home/jin/T_Cloudy/photon_test/data_RT/N_atom800E+00_Vexp000E+00_Vemit100E+00_tauD000E+00_Vran118E+01radi.dat'\n",
    "\n",
    "# path_t = r'/home/jin/T_Cloudy/Test/data_RT/N_atom000E+00_Vexp000E+00_Vemit100E+00_tauD000E+00_Vran118E+01radi.dat'\n",
    "\n",
    "# /home/jin/T_Cloudy/Test/data_RT"
   ]
  },
  {
   "cell_type": "code",
   "execution_count": 4,
   "metadata": {},
   "outputs": [],
   "source": [
    "RT_path_4 =r'/home/jin/Data_CIV_code_python/photon_test/data_RT/N_atom400E+00_Vexp000E+00_Vemit100E+00_tauD000E+00_Vran118E+01radi.dat'\n",
    "RT_path_6 =r'/home/jin/Data_CIV_code_python/photon_test/data_RT/N_atom600E+00_Vexp000E+00_Vemit100E+00_tauD000E+00_Vran118E+01radi.dat'\n",
    "RT_path_8 =r'/home/jin/Data_CIV_code_python/photon_test/data_RT/N_atom800E+00_Vexp000E+00_Vemit100E+00_tauD000E+00_Vran118E+01radi.dat'\n",
    "\n",
    "path_t = r'/home/jin/Data_CIV_code_python/Test/data_RT/N_atom000E+00_Vexp000E+00_Vemit100E+00_tauD000E+00_Vran118E+01radi.dat'"
   ]
  },
  {
   "cell_type": "code",
   "execution_count": 5,
   "metadata": {},
   "outputs": [],
   "source": [
    "radius_4 , radius_kpc_4 , sb_t_4 = RT_SB(RT_path_4)\n",
    "radius_6 , radius_kpc_6 , sb_t_6 = RT_SB(RT_path_6)\n",
    "radius_8 , radius_kpc_8 , sb_t_8 = RT_SB(RT_path_8)\n",
    "radius_t, radius_kpc_t,sb_t_t = RT_SB(path_t)"
   ]
  },
  {
   "cell_type": "code",
   "execution_count": 6,
   "metadata": {},
   "outputs": [
    {
     "data": {
      "text/plain": [
       "(0.0, 15.0)"
      ]
     },
     "execution_count": 6,
     "metadata": {},
     "output_type": "execute_result"
    },
    {
     "data": {
      "image/png": "[encoded data removed]",
      "text/plain": [
       "<Figure size 640x480 with 1 Axes>"
      ]
     },
     "metadata": {},
     "output_type": "display_data"
    }
   ],
   "source": [
    "plt.plot(radius_t,sb_t_t,'ro')\n",
    "plt.yscale('log')\n",
    "plt.xlim(0,15)"
   ]
  },
  {
   "cell_type": "code",
   "execution_count": 10,
   "metadata": {},
   "outputs": [
    {
     "data": {
      "text/plain": [
       "(-0.5, 20.0)"
      ]
     },
     "execution_count": 10,
     "metadata": {},
     "output_type": "execute_result"
    },
    {
     "data": {
      "image/png": "[encoded data removed]",
      "text/plain": [
       "<Figure size 640x480 with 1 Axes>"
      ]
     },
     "metadata": {},
     "output_type": "display_data"
    }
   ],
   "source": [
    "normal = sb_t_4.max()\n",
    "# normal = 1\n",
    "plt.plot(radius_4,sb_t_4 / normal,'r--', la)\n",
    "\n",
    "normal = sb_t_6.max()\n",
    "plt.plot(radius_6,sb_t_6 / normal,'b--')\n",
    "\n",
    "normal = sb_t_8.max()\n",
    "plt.plot(radius_8,sb_t_8 / normal,'k--')\n",
    "\n",
    "plt.yscale('log')\n",
    "\n",
    "plt.xlim(-0.5,20)\n"
   ]
  },
  {
   "cell_type": "code",
   "execution_count": 8,
   "metadata": {},
   "outputs": [],
   "source": [
    "def fitting_SB(cloudy_index):\n",
    "    fig = plt.figure(1, figsize= (7,7))\n",
    "    plt.xlim(-0.5,20)\n",
    "    ax1 = plt.gca()\n",
    "    ax2 = ax1.twinx()  \n",
    "    normal = globals()['sb_{}'.format(cloudy_index)].max() /  globals()['rt_sb_t_{}'.format(cloudy_index)][1:].max()\n",
    "\n",
    "    ax1.plot(globals()['p_raidus_{}'.format(cloudy_index)]/kpc, globals()['sb_{}'.format(cloudy_index)]   ,'ro',label='SB_CLOUDY_{}'.format(cloudy_index))\n",
    "    # ax1.plot(globals()['rt_raidus_{}'.format(cloudy_index)][1:], globals()['rt_sb_t_{}'.format(cloudy_index)][1:] * normal  ,'bo',label='SB_RT_{}'.format(cloudy_index))\n",
    "    ax2.plot(globals()['raidus_{}'.format(cloudy_index)], globals()['civ_emis_{}'.format(cloudy_index)], 'r-',alpha = 0.5, label='emis_{}'.format(cloudy_index))\n",
    "    ax1.set_xlabel('Radius [kpc]',fontsize=15)\n",
    "    ax1.set_ylabel('Surface Brightness',fontsize = 15)\n",
    "    ax2.set_ylabel(r'$\\rm Emissivity \\  [\\rm erg/s/cm^{-3}]$',fontsize = 15)\n",
    "    ax1.set_yscale('log')\n",
    "    ax2.set_yscale('log')\n",
    "    ax1.legend(loc='lower left')\n",
    "    ax2.legend(loc='upper right')\n",
    "    # ax1.plot(R_project_or[1:]/kpc, SB_or[1:]  ,'bo', label='SB_CLOUDY_or')\n",
    "\n"
   ]
  },
  {
   "cell_type": "code",
   "execution_count": 9,
   "metadata": {},
   "outputs": [
    {
     "ename": "NameError",
     "evalue": "name 'sb_LT' is not defined",
     "output_type": "error",
     "traceback": [
      "\u001b[0;31m---------------------------------------------------------------------------\u001b[0m",
      "\u001b[0;31mNameError\u001b[0m                                 Traceback (most recent call last)",
      "Cell \u001b[0;32mIn[9], line 8\u001b[0m\n\u001b[1;32m      6\u001b[0m ax1 \u001b[38;5;241m=\u001b[39m plt\u001b[38;5;241m.\u001b[39mgca()\n\u001b[1;32m      7\u001b[0m ax2 \u001b[38;5;241m=\u001b[39m ax1\u001b[38;5;241m.\u001b[39mtwinx()\n\u001b[0;32m----> 8\u001b[0m normal \u001b[38;5;241m=\u001b[39m sb_LT[\u001b[38;5;241m1\u001b[39m:]\u001b[38;5;241m.\u001b[39mmax() \u001b[38;5;241m/\u001b[39m sb_t_t[\u001b[38;5;241m1\u001b[39m:]\u001b[38;5;241m.\u001b[39mmax()\n\u001b[1;32m      9\u001b[0m \u001b[38;5;66;03m# ax1.plot(rad_LT[1:] , SB_LT_t[1:] / normal ,'bo', label='SB_RT_Scat')\u001b[39;00m\n\u001b[1;32m     10\u001b[0m ax1\u001b[38;5;241m.\u001b[39mplot(p_raidus_LT[\u001b[38;5;241m1\u001b[39m:]\u001b[38;5;241m/\u001b[39mkpc, sb_LT[\u001b[38;5;241m1\u001b[39m:]  ,\u001b[38;5;124m'\u001b[39m\u001b[38;5;124mro\u001b[39m\u001b[38;5;124m'\u001b[39m, label\u001b[38;5;241m=\u001b[39m\u001b[38;5;124m'\u001b[39m\u001b[38;5;124mSB_CLOUDY_LT\u001b[39m\u001b[38;5;124m'\u001b[39m)\n",
      "\u001b[0;31mNameError\u001b[0m: name 'sb_LT' is not defined"
     ]
    },
    {
     "data": {
      "image/png": "[encoded data removed]",
      "text/plain": [
       "<Figure size 1000x1000 with 2 Axes>"
      ]
     },
     "metadata": {},
     "output_type": "display_data"
    }
   ],
   "source": [
    "fig = plt.figure(1, figsize= (10,10))\n",
    "\n",
    "# normal = SB_LT_t[1] / SB_LT[1]\n",
    "\n",
    "plt.xlim(-0.5,20)\n",
    "ax1 = plt.gca()\n",
    "ax2 = ax1.twinx()\n",
    "normal = sb_LT[1:].max() / sb_t_t[1:].max()\n",
    "# ax1.plot(rad_LT[1:] , SB_LT_t[1:] / normal ,'bo', label='SB_RT_Scat')\n",
    "ax1.plot(p_raidus_LT[1:]/kpc, sb_LT[1:]  ,'ro', label='SB_CLOUDY_LT')\n",
    "# ax1.plot(rt_raidus_LT[1:], rt_sb_t_LT[1:] *normal ,'bo', label='RT_LT')\n",
    "ax1.plot(radius_t[1:],sb_t_t[1:]*normal,label='RT')\n",
    "# ax2.plot(radius_or, civ_emis_or, 'b', label='emis_or')\n",
    "ax2.plot(radius_LT, civ_emis_LT, 'r', label='emis_LT')\n",
    "ax1.set_xlabel('Radius [kpc]',fontsize=15)\n",
    "ax1.set_ylabel('Surface Brightness',fontsize = 15)\n",
    "ax2.set_ylabel('emis_LT',fontsize = 15)\n",
    "ax1.set_yscale('log')\n",
    "ax2.set_yscale('log')\n",
    "ax1.legend(loc='upper left')\n",
    "ax2.legend(loc='upper right')\n",
    "# plt.ylim(10**(-19),10**(-13))\n",
    "# plt.legend()"
   ]
  },
  {
   "cell_type": "code",
   "execution_count": 54,
   "metadata": {},
   "outputs": [],
   "source": [
    "# def SB(radius_kpc, emissivity):\n",
    "#     emis_int = interpolate.interp1d(radius_kpc, emissivity)\n",
    "#     r_min, r_max = radius_kpc.min(), radius_kpc.max()\n",
    "#     Project_R = np.linspace(0, r_max, 100)\n",
    "#     surface_brightness = np.zeros(len(Project_R))\n",
    "#     for ii, R in enumerate(Project_R):\n",
    "#         def function(r):\n",
    "#             if r <= r_min:\n",
    "#                 emis = emis_int(r)\n",
    "#                 return emis\n",
    "#             else:\n",
    "#                 emis = emis_int(r)\n",
    "#                 if r**2 - R**2 <= 0:  # 분모가 0이 되는 경우 처리\n",
    "#                     return 0  # 또는 적절한 값을 반환\n",
    "#                 yy = emis * r / np.sqrt(r**2 - R**2)\n",
    "#                 return yy \n",
    "\n",
    "#         if R <= r_min:\n",
    "#             surface_brightness[ii], _ = quad(function, r_min, r_max)    \n",
    "#         else:\n",
    "#             surface_brightness[ii], _ = quad(function, R, r_max)   \n",
    "\n",
    "#     tt = interpolate.interp1d(Project_R, 2*surface_brightness)\n",
    "\n",
    "#     def test(r):\n",
    "#         SB_new = tt(r)\n",
    "#         return SB_new * r\n",
    "#     LL, _ = quad(test,0,r_max)\n",
    "#     return Project_R, 2*surface_brightness , LL * 2 *np.pi\n",
    "\n",
    "# warnings.filterwarnings(\"ignore\", category=IntegrationWarning)"
   ]
  }
 ],
 "metadata": {
  "kernelspec": {
   "display_name": "base",
   "language": "python",
   "name": "python3"
  },
  "language_info": {
   "codemirror_mode": {
    "name": "ipython",
    "version": 3
   },
   "file_extension": ".py",
   "mimetype": "text/x-python",
   "name": "python",
   "nbconvert_exporter": "python",
   "pygments_lexer": "ipython3",
   "version": "3.11.5"
  }
 },
 "nbformat": 4,
 "nbformat_minor": 2
}
