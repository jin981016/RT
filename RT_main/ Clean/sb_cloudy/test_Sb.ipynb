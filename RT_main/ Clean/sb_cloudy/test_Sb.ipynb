{
 "cells": [
  {
   "cell_type": "code",
   "execution_count": 1,
   "metadata": {},
   "outputs": [
    {
     "name": "stdout",
     "output_type": "stream",
     "text": [
      "warng pyCloudy config: pyCloudy works better with matplotlib Triangulation\n"
     ]
    }
   ],
   "source": [
    "import numpy as np                                                                        \n",
    "import matplotlib.pyplot as plt\n",
    "import pyCloudy as pc\n",
    "import pyneb as pn\n",
    "from astropy    import constants as const\n",
    "from astropy.io import ascii\n",
    "import pandas as pd\n",
    "from scipy import interpolate\n",
    "import warnings\n",
    "from scipy.integrate import quad, IntegrationWarning\n",
    "# from scipy.integrate import simps\n",
    "from numpy import log10, exp\n",
    "\n",
    "kpc = const.kpc.cgs.value\n",
    "\n",
    "atom = ['Lya','HeII','CIV']\n",
    "\n",
    "def read_file(path_way, atom):\n",
    "    Mod = pc.CloudyModel(path_way, cloudy_version_major=23)\n",
    "    Mod.ionic_names\n",
    "\n",
    "    N_H = sum(Mod.dr*Mod.nH)\n",
    "    # solar_metallicitiy from von Steiger et al. 2016\n",
    "    frac_He = 1.0E-01\n",
    "    frac_C = 4.47E-04\n",
    "    frac_O = 6.61E-04\n",
    "    frac_N = 9.33E-05\n",
    "    frac_Mg = 7.08E-05\n",
    "\n",
    "    N_HI = sum(Mod.dr*Mod.nH*Mod.get_ionic('H',0))\n",
    "    N_HII = sum(Mod.dr*Mod.nH*Mod.get_ionic('H',1))\n",
    "    N_HeII = frac_He*sum(Mod.dr*Mod.nH*Mod.get_ionic('He',1))\n",
    "    N_OVI = frac_O*sum(Mod.dr*Mod.nH*Mod.get_ionic('O',5))\n",
    "    N_NV = frac_N*sum(Mod.dr*Mod.nH*Mod.get_ionic('N',4))\n",
    "    N_CIV = frac_C*sum(Mod.dr*Mod.nH*Mod.get_ionic('C',3))\n",
    "\n",
    "    num = len(Mod.nH)\n",
    "    r_CIV = path_way +  '.ele_C'\n",
    "    f = open(r_CIV,'r')\n",
    "    header = f.readline()\n",
    "    CIV_frac = np.zeros(num)\n",
    "    i = 0\n",
    "    for line in f:\n",
    "        line = line.strip()\n",
    "        columns = line.split()\n",
    "        j = float(columns[4])\n",
    "        CIV_frac[i] = j\n",
    "        i = i + 1\n",
    "\n",
    "    r_He = path_way +  '.ele_He'\n",
    "    f = open(r_He,'r')\n",
    "    header = f.readline()\n",
    "    HeII_frac = np.zeros(num)\n",
    "    i = 0\n",
    "    for line in f:\n",
    "        line = line.strip()\n",
    "        columns = line.split()\n",
    "        j = float(columns[2])\n",
    "        HeII_frac[i] = j\n",
    "        i = i + 1\n",
    "\n",
    "\n",
    "\n",
    "    n_H= Mod.nH\n",
    "    n_He = n_H*frac_He\n",
    "    n_C = n_H*frac_C\n",
    "    nden_CIV = CIV_frac*n_C\n",
    "    nden_HeII = HeII_frac*n_He\n",
    "\n",
    "    # tt = nden_CIV / n_H\n",
    "    # print(tt.mean())\n",
    "\n",
    "    if atom == 'CIV':\n",
    "        Cloudy_Lum = float(Mod.get_emis_vol('C__4_154819A')) + float(Mod.get_emis_vol('C__4_155078A'))\n",
    "        Cloudy_emis = (Mod.get_emis('C__4_154819A')) + (Mod.get_emis('C__4_155078A'))\n",
    "        Cloudy_den = nden_CIV\n",
    "    elif atom == 'Lya':\n",
    "        Cloudy_Lum= float(Mod.get_emis_vol('H__1_121567A'))\n",
    "        Cloudy_emis = Mod.get_emis('H__1_121567A')\n",
    "        Cloudy_den = n_H\n",
    "    elif atom == 'HeII':\n",
    "        Cloudy_Lum = float(Mod.get_emis_vol('HE_2_164043A'))\n",
    "        Cloudy_emis = Mod.get_emis('HE_2_164043A')\n",
    "        Cloudy_den = nden_HeII\n",
    "    return Cloudy_Lum , Cloudy_emis ,Cloudy_den\n",
    "\n",
    "def radius(path, atom):\n",
    "    Mod = pc.CloudyModel(path, cloudy_version_major=23)\n",
    "    radius = Mod.radius/kpc\n",
    "    radius_kpc =Mod.radius \n",
    "    dr = Mod.dr \n",
    "    return radius, radius_kpc, dr\n",
    "\n",
    "def make_data_file(path,atom):\n",
    "    lum ,emis ,den = read_file(path,atom)\n",
    "    radius_R , radius_kpc , dr=  radius(path,atom)\n",
    "    tt =  pd.DataFrame(np.column_stack((radius_R,emis,den)))\n",
    "    tt.to_csv('/home/jin/T_Cloudy/CIV_cloudy.txt', sep='\\t',index=False,header =False)\n",
    "    tt.to_csv('/home/jin/RT_code/CIV_cloudy.txt', sep='\\t',index = False,header=False)\n",
    "    return print(\"make data file!\")\n",
    "\n",
    "def SB(z,radius_kpc, emissivity,dr ):\n",
    "    r_min, r_max = radius_kpc.min(), radius_kpc.max()  \n",
    "    # N = len(rt_radius)     \n",
    "    # Project_R = np.copy(rt_radius)\n",
    "    Project_R  = np.linspace(0,100,100) * kpc\n",
    "    N = len(Project_R )\n",
    "    surface_brightness = np.zeros(N)\n",
    "    Lumin = np.zeros(N)\n",
    "    T_Lumin = np.zeros(N)\n",
    "    dR_pro = Project_R[1] -Project_R[0] \n",
    "    for ii, bb in enumerate(Project_R):\n",
    "        array_R = np.where(radius_kpc >= bb)[0]\n",
    "        r_surface_brightness = 0\n",
    "        for dR in (array_R):\n",
    "            r_surface_brightness += emissivity[dR] * dr[dR] \n",
    "\n",
    "        if bb ==0 :\n",
    "            bb = dR_pro\n",
    "            surface_brightness[ii] = 4*r_surface_brightness / (1+z)**4 \n",
    "            Lumin[ii] = np.pi*bb*surface_brightness[ii] * dR_pro * (1+z)**4\n",
    "        else :\n",
    "            surface_brightness[ii] = 4*r_surface_brightness / (1+z)**4 \n",
    "            Lumin[ii] = 2*np.pi*bb*surface_brightness[ii] * dR_pro * (1+z)**4\n",
    "\n",
    "    return Project_R/ kpc, surface_brightness, Lumin\n",
    "\n",
    "\n",
    "    \n",
    "\n",
    "\n",
    "\n",
    "def RT_SB(path):\n",
    "    name = ['radius','SB_K','SB_H','SB_tot','1','2','3']\n",
    "    data_sp = pd.read_csv(path, sep='\\s+', header=None,names=name)\n",
    "    rad, SB_t, SB_k,SB_h =  data_sp['radius'].to_numpy(),data_sp['SB_tot'].to_numpy(),data_sp['SB_K'].to_numpy(),data_sp['SB_H'].to_numpy()\n",
    "    return rad*100, rad*100*kpc, SB_t \n",
    "\n",
    "def find_y(x_find,x,y):\n",
    "    ii = int(np.where(x <= x_find)[0][-1])\n",
    "    # print(ii)\n",
    "    y_find = (y[ii+1] -y[ii]) / (x[ii+1] - x[ii])*(x_find - x[ii]) + y[ii]\n",
    "    return y_find\n",
    "\n",
    "warnings.filterwarnings(\"ignore\", category=IntegrationWarning)"
   ]
  },
  {
   "cell_type": "code",
   "execution_count": 2,
   "metadata": {},
   "outputs": [
    {
     "name": "stdout",
     "output_type": "stream",
     "text": [
      "make parameters of LT\n"
     ]
    }
   ],
   "source": [
    "# RT_path_LT =r'/home/jin/T_Cloudy/OTS_n_LT_y/data_RT/N_atom000E+00_Vexp000E+00_Vemit000E+00_tauD000E+00_Vran000E+00radi.dat'\n",
    "RT_path_LT= r'/home/jin/RT_code/data_test/N_atom000E+00_Vexp000E+00_Vemit100E+00_tauD000E+00_Vran118E+01radi.dat'\n",
    "path_LT = r'/home/jin/T_Cloudy/OTS_n_LT_y/CIV_Lumin_42' # no OTS , yes LT\n",
    "\n",
    "cloudy_model = ['LT'] # or - original (no LT, no Diffuse OTS) , n - no LT (on OTS), y - on LT , OTS, LT- no OTS (on LT)\n",
    "atom_N = 'CIV'\n",
    "def make_parameter(path,RT_path,atom,cloudy_index):\n",
    "    z_red_Shift = 0\n",
    "    globals()['radius_{}'.format(cloudy_index)] , globals()['radius_kpc_{}'.format(cloudy_index)], globals()['dr_{}'.format(cloudy_index)] = radius(path,atom)\n",
    "    globals()['civ_lum_{}'.format(cloudy_index)] , globals()['civ_emis_{}'.format(cloudy_index)] , globals()['civ_den_{}'.format(cloudy_index)] = read_file(path,atom)\n",
    "    globals()['rt_radius_{}'.format(cloudy_index)] , globals()['rt_radius_kpc_{}'.format(cloudy_index)], globals()['rt_sb_t_{}'.format(cloudy_index)] = RT_SB(RT_path)\n",
    "    globals()['p_radius_{}'.format(cloudy_index)] , globals()['sb_{}'.format(cloudy_index)], globals()['lum_sb_{}'.format(cloudy_index)] = SB(z_red_Shift,globals()['radius_kpc_{}'.format(cloudy_index)],globals()['civ_emis_{}'.format(cloudy_index)]  , globals()['dr_{}'.format(cloudy_index)] ) # , globals()['rt_radius_kpc_{}'.format(cloudy_index)]\n",
    "    return print(\"make parameters of {}\".format(cloudy_index))\n",
    "\n",
    "for ii ,cloudy_index in enumerate (cloudy_model) :\n",
    "    make_parameter(globals()[\"path_{}\".format(cloudy_index)],globals()[\"RT_path_{}\".format(cloudy_index)],atom_N, cloudy_model[ii])\n",
    "\n",
    "# rt_sb_t_LT = rt_sb_t_LT / np.sum(rt_sb_t_LT)"
   ]
  },
  {
   "cell_type": "code",
   "execution_count": 3,
   "metadata": {},
   "outputs": [
    {
     "name": "stdout",
     "output_type": "stream",
     "text": [
      "1.5562392548078622e+40 1.5578665190756982e+40\n"
     ]
    },
    {
     "data": {
      "text/plain": [
       "(-0.5, 100.0)"
      ]
     },
     "execution_count": 3,
     "metadata": {},
     "output_type": "execute_result"
    },
    {
     "data": {
      "image/png": "[encoded data removed]",
      "text/plain": [
       "<Figure size 640x480 with 1 Axes>"
      ]
     },
     "metadata": {},
     "output_type": "display_data"
    }
   ],
   "source": [
    "def SB(z,radius_kpc, emissivity,dr):\n",
    "    r_min, r_max = radius_kpc.min(), radius_kpc.max()  \n",
    "    Project_R  = np.linspace(0,100,300) * kpc\n",
    "    N = len(Project_R )\n",
    "    surface_brightness = np.zeros(N)\n",
    "    Lumin = np.zeros(N)\n",
    "    T_Lumin = np.zeros(N)\n",
    "    dR_pro = Project_R[1] -Project_R[0] \n",
    "    for ii, bb in enumerate(Project_R):\n",
    "        array_R = np.where(radius_kpc >= bb)[0]\n",
    "        r_surface_brightness = 0\n",
    "        for dR in (array_R):\n",
    "            r_surface_brightness += emissivity[dR] * dr[dR] \n",
    "        surface_brightness[ii] = 2*r_surface_brightness / (1+z)**4 \n",
    "        Lumin[ii] = 4*np.pi*bb*surface_brightness[ii] * dR_pro * (1+z)**4\n",
    "\n",
    "    return Project_R/ kpc, surface_brightness ,Lumin\n",
    "\n",
    "aa ,bb, cc  = SB(0,radius_kpc_LT,civ_emis_LT,dr_LT)\n",
    "print(sum(cc), civ_lum_LT)\n",
    "normal = np.sum(bb)\n",
    "plt.plot(aa,bb/normal)\n",
    "\n",
    "normal = np.sum(rt_sb_t_LT)\n",
    "plt.plot(rt_radius_LT,rt_sb_t_LT /normal * 5,'bo')\n",
    "\n",
    "plt.yscale('log')\n",
    "plt.xlim(-0.5,100)"
   ]
  },
  {
   "cell_type": "code",
   "execution_count": 4,
   "metadata": {},
   "outputs": [],
   "source": [
    "def SB(z,radius_kpc, emissivity,dr , rt_radius):\n",
    "\n",
    "    emis_int = interpolate.interp1d(radius_kpc, emissivity)\n",
    "\n",
    "    r_min, r_max = radius_kpc.min(), radius_kpc.max()\n",
    "\n",
    "    Project_R = np.linspace(0, r_max, 70)\n",
    "\n",
    "    surface_brightness = np.zeros(len(Project_R))\n",
    "\n",
    "    for ii, R in enumerate(Project_R):\n",
    "\n",
    "        def function(r):\n",
    "            if r <= r_min:\n",
    "\n",
    "                emis = 0\n",
    "            else:\n",
    "\n",
    "                emis = emis_int(r)\n",
    "                yy = emis\n",
    "                return yy \n",
    "\n",
    "\n",
    "\n",
    "        if R < r_min:\n",
    "\n",
    "            surface_brightness[ii], _ = quad(function, r_min, r_max)    \n",
    "\n",
    "        else:\n",
    "\n",
    "            surface_brightness[ii], _ = quad(function, R, r_max)   \n",
    "\n",
    "\n",
    "\n",
    "    tt = interpolate.interp1d(Project_R, 2*surface_brightness)\n",
    "\n",
    "\n",
    "    dR = Project_R[1] - Project_R[0]\n",
    "    def test(r):\n",
    "\n",
    "        SB_new = tt(r)\n",
    "        if r == 0:\n",
    "            yy = SB_new * dR\n",
    "        else :\n",
    "            yy = SB_new * r\n",
    "        return yy\n",
    "\n",
    "    LL, _ = quad(test,0,r_max)\n",
    "\n",
    "\n",
    "\n",
    "    return Project_R / kpc, 2*surface_brightness , LL * 4 *np.pi"
   ]
  },
  {
   "cell_type": "code",
   "execution_count": 108,
   "metadata": {},
   "outputs": [],
   "source": [
    "# def SB(z,radius_kpc, emissivity,dr , rt_radius):\n",
    "\n",
    "#     emis_int = interpolate.interp1d(radius_kpc, emissivity)\n",
    "\n",
    "#     r_min, r_max = radius_kpc.min(), radius_kpc.max()\n",
    "\n",
    "#     Project_R = np.linspace(0, r_max, 100)\n",
    "\n",
    "#     surface_brightness = np.zeros(len(Project_R))\n",
    "\n",
    "#     for ii, R in enumerate(Project_R):\n",
    "\n",
    "#         def function(r):\n",
    "\n",
    "#             if r <= r_min:\n",
    "\n",
    "#                 emis = emis_int(r)\n",
    "\n",
    "#                 return emis\n",
    "\n",
    "#             else:\n",
    "\n",
    "#                 emis = emis_int(r)\n",
    "\n",
    "#                 if r**2 - R**2 <= 0:  # 분모가 0이 되는 경우 처리\n",
    "\n",
    "#                     return 0  # 또는 적절한 값을 반환\n",
    "\n",
    "#                 yy = emis * r / np.sqrt(r**2 - R**2)\n",
    "\n",
    "#                 return yy \n",
    "\n",
    "\n",
    "\n",
    "#         if R <= r_min:\n",
    "\n",
    "#             surface_brightness[ii], _ = quad(function, r_min, r_max)    \n",
    "\n",
    "#         else:\n",
    "\n",
    "#             surface_brightness[ii], _ = quad(function, R, r_max)   \n",
    "\n",
    "\n",
    "\n",
    "#     tt = interpolate.interp1d(Project_R, 2*surface_brightness)\n",
    "\n",
    "\n",
    "\n",
    "#     def test(r):\n",
    "\n",
    "#         SB_new = tt(r)\n",
    "\n",
    "#         return SB_new * r\n",
    "\n",
    "#     LL, _ = quad(test,0,r_max)\n",
    "\n",
    "\n",
    "\n",
    "#     return Project_R / kpc, 2*surface_brightness , LL * 2 *np.pi"
   ]
  },
  {
   "cell_type": "code",
   "execution_count": 109,
   "metadata": {},
   "outputs": [
    {
     "name": "stdout",
     "output_type": "stream",
     "text": [
      "make parameters of LT\n"
     ]
    }
   ],
   "source": [
    "# RT_path_LT =r'/home/jin/T_Cloudy/OTS_n_LT_y/data_RT/N_atom000E+00_Vexp000E+00_Vemit000E+00_tauD000E+00_Vran000E+00radi.dat'\n",
    "RT_path_LT= r'/home/jin/RT_code/data_test/N_atom000E+00_Vexp000E+00_Vemit100E+00_tauD000E+00_Vran118E+01radi.dat'\n",
    "path_LT = r'/home/jin/T_Cloudy/OTS_n_LT_y/CIV_Lumin_42' # no OTS , yes LT\n",
    "\n",
    "cloudy_model = ['LT'] # or - original (no LT, no Diffuse OTS) , n - no LT (on OTS), y - on LT , OTS, LT- no OTS (on LT)\n",
    "atom_N = 'CIV'\n",
    "def make_parameter(path,RT_path,atom,cloudy_index):\n",
    "    z_red_Shift = 0\n",
    "    globals()['radius_{}'.format(cloudy_index)] , globals()['radius_kpc_{}'.format(cloudy_index)], globals()['dr_{}'.format(cloudy_index)] = radius(path,atom)\n",
    "    globals()['civ_lum_{}'.format(cloudy_index)] , globals()['civ_emis_{}'.format(cloudy_index)] , globals()['civ_den_{}'.format(cloudy_index)] = read_file(path,atom)\n",
    "    globals()['rt_radius_{}'.format(cloudy_index)] , globals()['rt_radius_kpc_{}'.format(cloudy_index)], globals()['rt_sb_t_{}'.format(cloudy_index)] = RT_SB(RT_path)\n",
    "    globals()['p_radius_{}'.format(cloudy_index)] , globals()['sb_{}'.format(cloudy_index)], globals()['lum_sb_{}'.format(cloudy_index)] = SB(z_red_Shift,globals()['radius_kpc_{}'.format(cloudy_index)],globals()['civ_emis_{}'.format(cloudy_index)]  , globals()['dr_{}'.format(cloudy_index)] , globals()['rt_radius_kpc_{}'.format(cloudy_index)])\n",
    "    return print(\"make parameters of {}\".format(cloudy_index))\n",
    "\n",
    "for ii ,cloudy_index in enumerate (cloudy_model) :\n",
    "    make_parameter(globals()[\"path_{}\".format(cloudy_index)],globals()[\"RT_path_{}\".format(cloudy_index)],atom_N, cloudy_model[ii])\n",
    "\n",
    "# rt_sb_t_LT = rt_sb_t_LT / np.sum(rt_sb_t_LT)"
   ]
  },
  {
   "cell_type": "code",
   "execution_count": 110,
   "metadata": {},
   "outputs": [
    {
     "name": "stdout",
     "output_type": "stream",
     "text": [
      "1.5578665190756982e+40 3.2116584968563905e+40\n"
     ]
    }
   ],
   "source": [
    "print(civ_lum_LT , np.sum(lum_sb_LT)*2)"
   ]
  },
  {
   "cell_type": "code",
   "execution_count": 111,
   "metadata": {},
   "outputs": [
    {
     "data": {
      "text/plain": [
       "(0.0, 20.0)"
      ]
     },
     "execution_count": 111,
     "metadata": {},
     "output_type": "execute_result"
    },
    {
     "data": {
      "image/png": "[encoded data removed]",
      "text/plain": [
       "<Figure size 640x480 with 1 Axes>"
      ]
     },
     "metadata": {},
     "output_type": "display_data"
    }
   ],
   "source": [
    "normal = np.sum(sb_LT)\n",
    "plt.plot(p_radius_LT, sb_LT/normal,'r--')\n",
    "\n",
    "normal = np.sum(rt_sb_t_LT)\n",
    "plt.plot(rt_radius_LT,rt_sb_t_LT /normal * 2,'bo')\n",
    "plt.yscale('log')\n",
    "plt.xlim(0,20)"
   ]
  }
 ],
 "metadata": {
  "kernelspec": {
   "display_name": "Python 3",
   "language": "python",
   "name": "python3"
  },
  "language_info": {
   "codemirror_mode": {
    "name": "ipython",
    "version": 3
   },
   "file_extension": ".py",
   "mimetype": "text/x-python",
   "name": "python",
   "nbconvert_exporter": "python",
   "pygments_lexer": "ipython3",
   "version": "3.10.12"
  }
 },
 "nbformat": 4,
 "nbformat_minor": 2
}
